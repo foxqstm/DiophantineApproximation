{
 "cells": [
  {
   "cell_type": "code",
   "execution_count": 133,
   "metadata": {
    "scrolled": false
   },
   "outputs": [
    {
     "name": "stdout",
     "output_type": "stream",
     "text": [
      "alpha= 3.605551275463989\n",
      "0.0 %\n",
      "10.0 %\n",
      "20.0 %\n",
      "30.0 %\n",
      "40.0 %\n",
      "50.0 %\n",
      "60.0 %\n",
      "70.0 %\n",
      "80.0 %\n",
      "90.0 %\n",
      "23382 / 6485 = 3.6055512721665384\n"
     ]
    }
   ],
   "source": [
    "import math\n",
    "import sys\n",
    "\n",
    "alpha=math.e\n",
    "alpha=math.pi\n",
    "alpha=math.sqrt(13)\n",
    "print('alpha=',alpha)\n",
    "\n",
    "N=10**4 #N >= 2\n",
    "if N < 2:\n",
    "    print('N is less than 2.')\n",
    "    sys.exit()\n",
    "    \n",
    "Ni=[]\n",
    "Fi=[]\n",
    "x=[]\n",
    "y=[]\n",
    "xy=[]\n",
    "xyfin=[]\n",
    "\n",
    "for i in range(0,N+1):\n",
    "    alphaI=alpha*i\n",
    "    Nm=math.floor(alphaI)\n",
    "    Fm=alpha*i-Nm\n",
    "    Ni.append(Nm)\n",
    "    Fi.append(Fm)\n",
    "    \n",
    "for i in range(0,N):\n",
    "    if i%1000 == 0:\n",
    "        print(i/N*100,'%')\n",
    "    for j in range(i+1,N+1):\n",
    "            if math.fabs(Fi[i]-Fi[j]) >= 1.0/float(N):\n",
    "                continue\n",
    "            xx=Ni[j]-Ni[i]\n",
    "            yy=j-i\n",
    "            g=math.gcd(xx,yy)\n",
    "            if g !=1:\n",
    "                xx=int(xx/g)\n",
    "                yy=int(yy/g)\n",
    "            x.append(xx)\n",
    "            y.append(yy)\n",
    "            xy.append([xx,yy])\n",
    "            \n",
    "xyfin=list(map(list,set(map(tuple,xy))))\n",
    "for XY in xyfin:\n",
    "    print(XY[0],'/',XY[1],'=',float(XY[0])/XY[1])"
   ]
  },
  {
   "cell_type": "code",
   "execution_count": null,
   "metadata": {},
   "outputs": [],
   "source": []
  }
 ],
 "metadata": {
  "kernelspec": {
   "display_name": "Python 3",
   "language": "python",
   "name": "python3"
  },
  "language_info": {
   "codemirror_mode": {
    "name": "ipython",
    "version": 3
   },
   "file_extension": ".py",
   "mimetype": "text/x-python",
   "name": "python",
   "nbconvert_exporter": "python",
   "pygments_lexer": "ipython3",
   "version": "3.6.5"
  }
 },
 "nbformat": 4,
 "nbformat_minor": 2
}
